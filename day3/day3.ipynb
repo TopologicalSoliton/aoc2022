{
 "cells": [
  {
   "cell_type": "code",
   "execution_count": 135,
   "metadata": {},
   "outputs": [],
   "source": [
    "import pandas as pd\n",
    "import numpy as np"
   ]
  },
  {
   "cell_type": "code",
   "execution_count": 136,
   "metadata": {},
   "outputs": [],
   "source": [
    "#import the txt file, and split the data into a list of characters\n",
    "with open('input.txt') as f:\n",
    "    contents = f.read().splitlines()"
   ]
  },
  {
   "cell_type": "code",
   "execution_count": 137,
   "metadata": {},
   "outputs": [],
   "source": [
    "#split the data into a list of lists\n",
    "rucksacks = [list(item) for item in contents]"
   ]
  },
  {
   "cell_type": "code",
   "execution_count": 138,
   "metadata": {},
   "outputs": [],
   "source": [
    "# Create a mapping from letters to priorities\n",
    "letter_to_priority = {chr(i + 97): i + 1 for i in range(26)}\n",
    "letter_to_priority.update({chr(i + 65): i + 27 for i in range(26)})"
   ]
  },
  {
   "attachments": {},
   "cell_type": "markdown",
   "metadata": {},
   "source": [
    "Result 1: Using a for loop:"
   ]
  },
  {
   "cell_type": "code",
   "execution_count": 139,
   "metadata": {},
   "outputs": [
    {
     "name": "stdout",
     "output_type": "stream",
     "text": [
      "8515\n"
     ]
    }
   ],
   "source": [
    "# Initialize the sum of priorities to 0\n",
    "sum_of_priorities = 0\n",
    "\n",
    "# Iterate over the rucksacks\n",
    "for rucksack in rucksacks:\n",
    "    # Split the rucksack into its two compartments\n",
    "    left_compartment = rucksack[:len(rucksack) // 2]\n",
    "    right_compartment = rucksack[len(rucksack) // 2:]\n",
    "    \n",
    "    # Find the overlapping item types\n",
    "    overlapping_item_types = set(left_compartment).intersection(set(right_compartment))\n",
    "    \n",
    "    # Add the priorities of the overlapping item types to the sum\n",
    "    for item_type in overlapping_item_types:\n",
    "        sum_of_priorities += letter_to_priority[item_type]\n",
    "\n",
    "result1 = print(sum_of_priorities)"
   ]
  },
  {
   "attachments": {},
   "cell_type": "markdown",
   "metadata": {},
   "source": [
    "Result 1: Using list comprehension:"
   ]
  },
  {
   "cell_type": "code",
   "execution_count": 140,
   "metadata": {},
   "outputs": [
    {
     "name": "stdout",
     "output_type": "stream",
     "text": [
      "8515\n"
     ]
    }
   ],
   "source": [
    "# Create a mapping from letters to priorities\n",
    "letter_to_priority = {chr(i + 97): i + 1 for i in range(26)}\n",
    "letter_to_priority.update({chr(i + 65): i + 27 for i in range(26)})\n",
    "\n",
    "# Initialize the sum of priorities to 0\n",
    "sum_of_priorities = 0\n",
    "\n",
    "# Find the overlapping item types and sum the priorities of those item types\n",
    "sum_of_priorities = sum(letter_to_priority[item_type] for rucksack in rucksacks for item_type in set(rucksack[:len(rucksack) // 2]).intersection(set(rucksack[len(rucksack) // 2:])))\n",
    "\n",
    "result1 = print(sum_of_priorities)"
   ]
  },
  {
   "attachments": {},
   "cell_type": "markdown",
   "metadata": {},
   "source": [
    "Result 2: Using a for loop"
   ]
  },
  {
   "cell_type": "code",
   "execution_count": 141,
   "metadata": {},
   "outputs": [
    {
     "name": "stdout",
     "output_type": "stream",
     "text": [
      "2434\n"
     ]
    }
   ],
   "source": [
    "# Initialize the sum of priorities to 0\n",
    "sum_of_priorities = 0\n",
    "\n",
    "# Iterate over the rucksacks in groups of three\n",
    "for i in range(0, len(rucksacks), 3):\n",
    "    # Find the overlapping item types between the first, second, and third rucksacks\n",
    "    overlapping_item_types = set(rucksacks[i]).intersection(set(rucksacks[i + 1])).intersection(set(rucksacks[i + 2]))\n",
    "    \n",
    "    # Add the priorities of the overlapping item types to the sum\n",
    "    for item_type in overlapping_item_types:\n",
    "        sum_of_priorities += letter_to_priority[item_type]\n",
    "\n",
    "result2 = print(sum_of_priorities)"
   ]
  },
  {
   "attachments": {},
   "cell_type": "markdown",
   "metadata": {},
   "source": [
    "Result 2: Using list comprehension:"
   ]
  },
  {
   "cell_type": "code",
   "execution_count": 142,
   "metadata": {},
   "outputs": [
    {
     "name": "stdout",
     "output_type": "stream",
     "text": [
      "2434\n"
     ]
    }
   ],
   "source": [
    "# Initialize the sum of priorities to 0\n",
    "sum_of_priorities = 0\n",
    "\n",
    "# Find the overlapping item types and sum the priorities of those item types\n",
    "sum_of_priorities = sum(letter_to_priority[item_type] for i in range(0, len(rucksacks), 3) for item_type in set(rucksacks[i]).intersection(set(rucksacks[i + 1])).intersection(set(rucksacks[i + 2])))\n",
    "\n",
    "result2 = print(sum_of_priorities)\n"
   ]
  }
 ],
 "metadata": {
  "kernelspec": {
   "display_name": "Python 3.10.8 64-bit (microsoft store)",
   "language": "python",
   "name": "python3"
  },
  "language_info": {
   "codemirror_mode": {
    "name": "ipython",
    "version": 3
   },
   "file_extension": ".py",
   "mimetype": "text/x-python",
   "name": "python",
   "nbconvert_exporter": "python",
   "pygments_lexer": "ipython3",
   "version": "3.10.9"
  },
  "orig_nbformat": 4,
  "vscode": {
   "interpreter": {
    "hash": "d3f0d207b648d1175a3b2bbb912118d4848417bdf0b1a5227ab0916c63215186"
   }
  }
 },
 "nbformat": 4,
 "nbformat_minor": 2
}
